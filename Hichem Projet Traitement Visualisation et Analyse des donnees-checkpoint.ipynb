{
 "cells": [
  {
   "cell_type": "code",
   "execution_count": 26,
   "metadata": {},
   "outputs": [],
   "source": [
    "# 1 - Déploiement de l’environnement\n",
    "\n",
    "# Assurez-vous que les bibliothèques ci-dessous sont présentes dans votre environnement :\n",
    "\n",
    "# Pandas\n",
    "# Numpy\n",
    "# SciPy\n",
    "# Matplotlib"
   ]
  },
  {
   "cell_type": "code",
   "execution_count": 27,
   "metadata": {},
   "outputs": [],
   "source": [
    "import pandas as pd\n",
    "import numpy as np\n",
    "import scipy as sci\n",
    "import matplotlib.pyplot as plt"
   ]
  },
  {
   "cell_type": "code",
   "execution_count": 28,
   "metadata": {},
   "outputs": [],
   "source": [
    "# 2 - Sources de données : Manipulation\n",
    "\n",
    "# Vous avez à disposition un répertoire nommé credit_immo. \n",
    "# Il existe dans ce répertoire un ensemble de fichiers(credit_immo.*) \n",
    "# qui représentent les mêmes données avec des extensions différentes (csv, json, xls). \n",
    "# En utilisant la ou les bibliothèques adéquates, chargez et visualisez ces fichiers.\n"
   ]
  },
  {
   "cell_type": "code",
   "execution_count": 29,
   "metadata": {},
   "outputs": [
    {
     "name": "stdout",
     "output_type": "stream",
     "text": [
      "      ID_NOM  Niv_Etude_Bac  age contrat_de_travail  Salaire  \\\n",
      "0       jean            3.0   45                CDI    40000   \n",
      "1    VANESSA            5.0   28                CDI    30500   \n",
      "2   TARCISSE            0.0   55                CDI    28000   \n",
      "3    TIBAULT            4.0   23                CDD    15000   \n",
      "4      GILES            0.0   33                CDD    27000   \n",
      "5      ETHAN            0.0   41            INTERIM    40000   \n",
      "6    LILIANE           -1.0   29                CDI    50000   \n",
      "7      GLODI           -3.0   24            INTERIM    29000   \n",
      "8   FLORIANE            NaN   26                CDI    44000   \n",
      "9      MARIE            3.0   37                CDI    45800   \n",
      "10   BAKAMBU            2.0   40                CDI    60000   \n",
      "11     FATOU            0.0   38                CDD    26000   \n",
      "12      WUAN           -3.0   39            INTERIM    29000   \n",
      "13      HUGO            0.0   31                CDI    43000   \n",
      "14    JOSEPH            1.0   70                CDD    45000   \n",
      "15     DIANE            0.0   42        ENTRPRENEUR    70000   \n",
      "16      FENG            8.0   46                CDI    80000   \n",
      "17   FRICHET            3.0   23                CDI   100000   \n",
      "18  HOLLANDE            4.0   32                CDI    21000   \n",
      "\n",
      "    dette_anterieure etat_civile  apport  enfant_a_Charge Solvable  \n",
      "0               4000           M     0.3              3.0      OUI  \n",
      "1               1320           M     0.1              0.0      OUI  \n",
      "2              40000           C     0.0              0.0      NON  \n",
      "3                  0           M     0.1              NaN      OUI  \n",
      "4               3000           C     0.1              2.0      NON  \n",
      "5               1000           M     0.0              4.0      NON  \n",
      "6               3000           C     0.0              0.0      NON  \n",
      "7               5000           C     0.0              0.0      NON  \n",
      "8                  0           M     0.1              1.0      OUI  \n",
      "9               2000           M     0.2              2.0      OUI  \n",
      "10              1500           M     0.3              3.0      OUI  \n",
      "11              8000           C     0.4              0.0      NON  \n",
      "12              4900           M     0.0              1.0      NON  \n",
      "13            100000           M     0.2              2.0      NON  \n",
      "14             17000           C     0.3              0.0      NON  \n",
      "15             26000           M     0.2              0.0      NON  \n",
      "16              8000           M     0.0              3.0      OUI  \n",
      "17                 0           M     0.3              1.0      OUI  \n",
      "18              1200           M     0.1              2.0      OUI  \n"
     ]
    }
   ],
   "source": [
    "# url = './Bdd/credit_immo/credit_immo.csv'\n",
    "# data = pd.read_csv(url, sep = ',')\n",
    "# print(data)\n",
    "\n",
    "data_csv=pd.read_csv('./Bdd/credit_immo/credit_immo.csv',sep=',')\n",
    "print(data_csv)\n",
    "\n",
    "# url = './bdd/credit_immo/credit_immo.json'\n",
    "# data_json = pd.read_json(url)\n",
    "# print(data_json)\n",
    "\n",
    "# data_json=pd.read_json('./Bdd/credit_immo/credit_immo.json')\n",
    "# print(data_json)\n",
    "\n",
    "# # url = './bdd/credit_immo/credit_immo.xls'\n",
    "# # data_xls = pd.read_excel(url)\n",
    "# # print(data_xls)\n",
    "\n",
    "# data_xls=pd.read_excel('./Bdd/credit_immo/credit_immo.xls')\n",
    "# print(data_xls)"
   ]
  },
  {
   "cell_type": "code",
   "execution_count": 30,
   "metadata": {},
   "outputs": [],
   "source": [
    "# En utilisant les bibliothèques adéquates, \n",
    "# créer une base de données formée de 6 lignes et 4 colonnes. \n",
    "# Les colonnes représentent respectivement les variables \"taux_de_ventes, croissance_vente, ratio_benefice, ratio_perte\".\n",
    "# En utilisant la fonction dataset.reindex() et dataset.isnull(), \n",
    "# introduire des données manquantes et récupérer les indices des valeurs manquantes."
   ]
  },
  {
   "cell_type": "code",
   "execution_count": 31,
   "metadata": {},
   "outputs": [
    {
     "name": "stdout",
     "output_type": "stream",
     "text": [
      "(6, 4)\n",
      "   taux_de_ventes  croissance_vente  ratio_benefice  ratio_perte\n",
      "0              55                80              87           73\n",
      "1              55                94              27           64\n",
      "2              77                 6              89           45\n",
      "3              86                 1              37           68\n",
      "4              99                36              27           34\n",
      "5               8                36              96           71\n",
      "   taux_de_ventes  croissance_vente  ratio_benefice  ratio_perte\n",
      "0           False             False           False        False\n",
      "1           False             False           False        False\n",
      "2           False             False           False        False\n",
      "3           False             False           False        False\n",
      "4           False             False           False        False\n",
      "5           False             False           False        False\n"
     ]
    }
   ],
   "source": [
    "d = {'taux_de_ventes': [], 'croissance_vente': [],'ratio_benefice':[],'ratio_perte':[]}\n",
    "ar=np.random.randint(1,100,size=(6,4))\n",
    "df = pd.DataFrame(ar, columns = d,dtype = int)\n",
    "a=df.shape\n",
    "print(a)\n",
    "print (df)\n",
    "t=df.isnull()\n",
    "print(t)\n",
    "# t [t== False]\n"
   ]
  },
  {
   "cell_type": "code",
   "execution_count": 32,
   "metadata": {},
   "outputs": [],
   "source": [
    "# # 3 - Traitement des données\n",
    "\n",
    "# # Traitement des données renvoie à une série de processus qui permettent \n",
    "# d’extraire de l’information ou de produire du savoir à partir de données brutes. \n",
    "# Ces processus, une fois programmés, sont le plus souvent automatisés à l’aide d’ordinateurs. \n",
    "# Les étapes pour le processus de traitement de données consiste à :\n",
    "\n",
    "# Importer les bibliothèques adéquates.\n",
    "# Importer le jeu de données (credit_immo.csv).\n",
    "# Transformer les valeurs manquantes en moyenne (SimpleImputer).\n"
   ]
  },
  {
   "cell_type": "code",
   "execution_count": 33,
   "metadata": {},
   "outputs": [
    {
     "name": "stdout",
     "output_type": "stream",
     "text": [
      "      ID_NOM  Niv_Etude_Bac   age contrat_de_travail   Salaire  \\\n",
      "0       jean       3.000000  45.0                CDI   40000.0   \n",
      "1    VANESSA       5.000000  28.0                CDI   30500.0   \n",
      "2   TARCISSE       0.000000  55.0                CDI   28000.0   \n",
      "3    TIBAULT       4.000000  23.0                CDD   15000.0   \n",
      "4      GILES       0.000000  33.0                CDD   27000.0   \n",
      "5      ETHAN       0.000000  41.0            INTERIM   40000.0   \n",
      "6    LILIANE      -1.000000  29.0                CDI   50000.0   \n",
      "7      GLODI      -3.000000  24.0            INTERIM   29000.0   \n",
      "8   FLORIANE       1.444444  26.0                CDI   44000.0   \n",
      "9      MARIE       3.000000  37.0                CDI   45800.0   \n",
      "10   BAKAMBU       2.000000  40.0                CDI   60000.0   \n",
      "11     FATOU       0.000000  38.0                CDD   26000.0   \n",
      "12      WUAN      -3.000000  39.0            INTERIM   29000.0   \n",
      "13      HUGO       0.000000  31.0                CDI   43000.0   \n",
      "14    JOSEPH       1.000000  70.0                CDD   45000.0   \n",
      "15     DIANE       0.000000  42.0        ENTRPRENEUR   70000.0   \n",
      "16      FENG       8.000000  46.0                CDI   80000.0   \n",
      "17   FRICHET       3.000000  23.0                CDI  100000.0   \n",
      "18  HOLLANDE       4.000000  32.0                CDI   21000.0   \n",
      "\n",
      "    dette_anterieure etat_civile  apport  enfant_a_Charge Solvable  \n",
      "0             4000.0           M     0.3         3.000000      OUI  \n",
      "1             1320.0           M     0.1         0.000000      OUI  \n",
      "2            40000.0           C     0.0         0.000000      NON  \n",
      "3                0.0           M     0.1         1.333333      OUI  \n",
      "4             3000.0           C     0.1         2.000000      NON  \n",
      "5             1000.0           M     0.0         4.000000      NON  \n",
      "6             3000.0           C     0.0         0.000000      NON  \n",
      "7             5000.0           C     0.0         0.000000      NON  \n",
      "8                0.0           M     0.1         1.000000      OUI  \n",
      "9             2000.0           M     0.2         2.000000      OUI  \n",
      "10            1500.0           M     0.3         3.000000      OUI  \n",
      "11            8000.0           C     0.4         0.000000      NON  \n",
      "12            4900.0           M     0.0         1.000000      NON  \n",
      "13          100000.0           M     0.2         2.000000      NON  \n",
      "14           17000.0           C     0.3         0.000000      NON  \n",
      "15           26000.0           M     0.2         0.000000      NON  \n",
      "16            8000.0           M     0.0         3.000000      OUI  \n",
      "17               0.0           M     0.3         1.000000      OUI  \n",
      "18            1200.0           M     0.1         2.000000      OUI  \n"
     ]
    }
   ],
   "source": [
    "from sklearn.impute import SimpleImputer\n",
    "from sklearn.feature_selection import SelectFromModel\n",
    "data=pd.read_csv('./Bdd/credit_immo/credit_immo.csv',sep=',')\n",
    "numerics = ['int16', 'int32', 'int64', 'float16', 'float32', 'float64']\n",
    "data_num= data.select_dtypes(include=numerics)\n",
    "newdata=SimpleImputer(missing_values=np.nan,strategy=\"mean\").fit(data_num)\n",
    "data[data_num.columns]=newdata.transform(data_num)\n",
    "print(data)"
   ]
  },
  {
   "cell_type": "code",
   "execution_count": 34,
   "metadata": {},
   "outputs": [],
   "source": [
    "# Encoder les valeurs catégoriques (LabelEncoder)."
   ]
  },
  {
   "cell_type": "code",
   "execution_count": 35,
   "metadata": {},
   "outputs": [
    {
     "name": "stdout",
     "output_type": "stream",
     "text": [
      "Index(['ID_NOM', 'contrat_de_travail', 'etat_civile', 'Solvable'], dtype='object')\n",
      "    ID_NOM  Niv_Etude_Bac   age  contrat_de_travail   Salaire  \\\n",
      "0       18       3.000000  45.0                   1   40000.0   \n",
      "1       16       5.000000  28.0                   1   30500.0   \n",
      "2       14       0.000000  55.0                   1   28000.0   \n",
      "3       15       4.000000  23.0                   0   15000.0   \n",
      "4        7       0.000000  33.0                   0   27000.0   \n",
      "5        2       0.000000  41.0                   3   40000.0   \n",
      "6       12      -1.000000  29.0                   1   50000.0   \n",
      "7        8      -3.000000  24.0                   3   29000.0   \n",
      "8        5       1.444444  26.0                   1   44000.0   \n",
      "9       13       3.000000  37.0                   1   45800.0   \n",
      "10       0       2.000000  40.0                   1   60000.0   \n",
      "11       3       0.000000  38.0                   0   26000.0   \n",
      "12      17      -3.000000  39.0                   3   29000.0   \n",
      "13      10       0.000000  31.0                   1   43000.0   \n",
      "14      11       1.000000  70.0                   0   45000.0   \n",
      "15       1       0.000000  42.0                   2   70000.0   \n",
      "16       4       8.000000  46.0                   1   80000.0   \n",
      "17       6       3.000000  23.0                   1  100000.0   \n",
      "18       9       4.000000  32.0                   1   21000.0   \n",
      "\n",
      "    dette_anterieure  etat_civile  apport  enfant_a_Charge  Solvable  \n",
      "0             4000.0            1     0.3         3.000000         1  \n",
      "1             1320.0            1     0.1         0.000000         1  \n",
      "2            40000.0            0     0.0         0.000000         0  \n",
      "3                0.0            1     0.1         1.333333         1  \n",
      "4             3000.0            0     0.1         2.000000         0  \n",
      "5             1000.0            1     0.0         4.000000         0  \n",
      "6             3000.0            0     0.0         0.000000         0  \n",
      "7             5000.0            0     0.0         0.000000         0  \n",
      "8                0.0            1     0.1         1.000000         1  \n",
      "9             2000.0            1     0.2         2.000000         1  \n",
      "10            1500.0            1     0.3         3.000000         1  \n",
      "11            8000.0            0     0.4         0.000000         0  \n",
      "12            4900.0            1     0.0         1.000000         0  \n",
      "13          100000.0            1     0.2         2.000000         0  \n",
      "14           17000.0            0     0.3         0.000000         0  \n",
      "15           26000.0            1     0.2         0.000000         0  \n",
      "16            8000.0            1     0.0         3.000000         1  \n",
      "17               0.0            1     0.3         1.000000         1  \n",
      "18            1200.0            1     0.1         2.000000         1  \n"
     ]
    }
   ],
   "source": [
    "from sklearn import preprocessing\n",
    "\n",
    "data_non_num= data.select_dtypes(include=object).columns\n",
    "#data_non_num=data_non_num.drop('Solvable', 1)\n",
    "print(data_non_num)\n",
    "for i in data_non_num :\n",
    "    data[i]= preprocessing.LabelEncoder().fit_transform(data[i])\n",
    "# data[data_non_num.columns]=data_non_num.transform(data_non_num)\n",
    "print(data)\n",
    "# data_num= data.select_dtypes(include=numerics)\n",
    "# newdata=SimpleImputer(missing_values=np.nan,strategy=\"mean\").fit(data_num)\n",
    "# data[data_num.columns]=newdata.transform(data_num)\n",
    "# print(data)"
   ]
  },
  {
   "cell_type": "code",
   "execution_count": 36,
   "metadata": {},
   "outputs": [],
   "source": [
    "# Fractionner le jeu de données pour l’entrainement et le test (Training and Test set)."
   ]
  },
  {
   "cell_type": "code",
   "execution_count": 37,
   "metadata": {},
   "outputs": [
    {
     "name": "stdout",
     "output_type": "stream",
     "text": [
      "    ID_NOM  Niv_Etude_Bac   age  contrat_de_travail   Salaire  \\\n",
      "11       3            0.0  38.0                   0   26000.0   \n",
      "0       18            3.0  45.0                   1   40000.0   \n",
      "17       6            3.0  23.0                   1  100000.0   \n",
      "9       13            3.0  37.0                   1   45800.0   \n",
      "12      17           -3.0  39.0                   3   29000.0   \n",
      "2       14            0.0  55.0                   1   28000.0   \n",
      "10       0            2.0  40.0                   1   60000.0   \n",
      "7        8           -3.0  24.0                   3   29000.0   \n",
      "16       4            8.0  46.0                   1   80000.0   \n",
      "5        2            0.0  41.0                   3   40000.0   \n",
      "3       15            4.0  23.0                   0   15000.0   \n",
      "1       16            5.0  28.0                   1   30500.0   \n",
      "14      11            1.0  70.0                   0   45000.0   \n",
      "4        7            0.0  33.0                   0   27000.0   \n",
      "6       12           -1.0  29.0                   1   50000.0   \n",
      "\n",
      "    dette_anterieure  etat_civile  apport  enfant_a_Charge  \n",
      "11            8000.0            0     0.4         0.000000  \n",
      "0             4000.0            1     0.3         3.000000  \n",
      "17               0.0            1     0.3         1.000000  \n",
      "9             2000.0            1     0.2         2.000000  \n",
      "12            4900.0            1     0.0         1.000000  \n",
      "2            40000.0            0     0.0         0.000000  \n",
      "10            1500.0            1     0.3         3.000000  \n",
      "7             5000.0            0     0.0         0.000000  \n",
      "16            8000.0            1     0.0         3.000000  \n",
      "5             1000.0            1     0.0         4.000000  \n",
      "3                0.0            1     0.1         1.333333  \n",
      "1             1320.0            1     0.1         0.000000  \n",
      "14           17000.0            0     0.3         0.000000  \n",
      "4             3000.0            0     0.1         2.000000  \n",
      "6             3000.0            0     0.0         0.000000  \n"
     ]
    }
   ],
   "source": [
    "from sklearn.model_selection import train_test_split\n",
    "data_x=data.drop('Solvable', 1)\n",
    "X_train, X_test, y_train, y_test = train_test_split(data_x, data['Solvable'], train_size=0.8)\n",
    "print(X_train)"
   ]
  },
  {
   "cell_type": "code",
   "execution_count": 38,
   "metadata": {},
   "outputs": [],
   "source": [
    "# Mise à l’échelle des features (StandardScaler)."
   ]
  },
  {
   "cell_type": "code",
   "execution_count": 39,
   "metadata": {},
   "outputs": [
    {
     "name": "stdout",
     "output_type": "stream",
     "text": [
      "11    0\n",
      "0     1\n",
      "17    1\n",
      "9     1\n",
      "12    0\n",
      "2     0\n",
      "10    1\n",
      "7     0\n",
      "16    1\n",
      "5     0\n",
      "3     1\n",
      "1     1\n",
      "14    0\n",
      "4     0\n",
      "6     0\n",
      "Name: Solvable, dtype: int32\n"
     ]
    },
    {
     "data": {
      "text/plain": [
       "array([1., 1., 1., 1., 1., 1., 1., 1., 1.])"
      ]
     },
     "execution_count": 39,
     "metadata": {},
     "output_type": "execute_result"
    }
   ],
   "source": [
    "scaler = preprocessing.StandardScaler().fit(X_train)\n",
    "X_train_scaled =scaler.transform(X_train)\n",
    "scaler = preprocessing.StandardScaler().fit(X_test)\n",
    "X_test_scaled =scaler.transform(X_test)\n",
    "# scaler = preprocessing.StandardScaler().fit(y_train)\n",
    "#y_train_scaled =scaler.transform(y_train)\n",
    "print(y_train)\n",
    "X_train_scaled.mean(axis=0)\n",
    "X_train_scaled.std(axis=0)"
   ]
  },
  {
   "cell_type": "code",
   "execution_count": 40,
   "metadata": {},
   "outputs": [],
   "source": [
    "# 4 - Visualisation de données\n",
    "# Chargez le fichier Montant_Temps.csv. \n",
    "# Puis en utilisation la fonction iloc, découpez vos données en données d’abscisses et d’ordonnées \n",
    "# qui représentent respectivement le temps et le montant du capital. \n",
    "# Puis tracez le montant du capital en fonction du temps (avec la focntion plot()) . \n",
    "# Puis sauvegardez vos graphiques.\n",
    "# 4.1 - Rajoutez du style à vos graphiques\n",
    "\n",
    "# Annotez vos courbes et amusez vous avec les paramètres d’affichages pour changer les aspects des graphiques que vous avez crées."
   ]
  },
  {
   "cell_type": "code",
   "execution_count": 41,
   "metadata": {},
   "outputs": [
    {
     "data": {
      "text/plain": [
       "[<matplotlib.lines.Line2D at 0x1cd4187d1c0>]"
      ]
     },
     "execution_count": 41,
     "metadata": {},
     "output_type": "execute_result"
    },
    {
     "data": {
      "image/png": "[encoded data removed]",
      "text/plain": [
       "<Figure size 432x288 with 1 Axes>"
      ]
     },
     "metadata": {},
     "output_type": "display_data"
    }
   ],
   "source": [
    "from matplotlib import pyplot\n",
    "data2=pd.read_csv('./Bdd/Montant_Temps.csv',sep=',')\n",
    "x=data2.Montant_du_capitale\n",
    "# x=x.iloc[]\n",
    "y=data2.Temps\n",
    "# y=y.iloc[]\n",
    "plt.style.use('ggplot')\n",
    "plt.plot(y, x, color='b', marker='.', linestyle='-',\n",
    "     linewidth=2, markersize=10)"
   ]
  },
  {
   "cell_type": "code",
   "execution_count": null,
   "metadata": {},
   "outputs": [],
   "source": [
    "# # 4.2 - Visualisation de données sous forme de nuage de points\n",
    "\n",
    "# # Illustration de vos données en nuage de points est utilisé pour déterminer la solidité d’une relation entre deux variables numériques. \n",
    "# Avec les bibliothèques de python, visualisez vos données sous forme de nuage de point.\n"
   ]
  },
  {
   "cell_type": "code",
   "execution_count": 42,
   "metadata": {},
   "outputs": [
    {
     "name": "stdout",
     "output_type": "stream",
     "text": [
      "[-1.18914087 -0.51066218 -0.00539211 -1.10660574 -0.78296213  0.14383173\n",
      " -1.22474487  1.85085809 -1.00637597]\n"
     ]
    },
    {
     "data": {
      "text/plain": [
       "<matplotlib.collections.PathCollection at 0x1cd41915a90>"
      ]
     },
     "execution_count": 42,
     "metadata": {},
     "output_type": "execute_result"
    },
    {
     "data": {
      "image/png": "[encoded data removed]",
      "text/plain": [
       "<Figure size 432x288 with 1 Axes>"
      ]
     },
     "metadata": {},
     "output_type": "display_data"
    }
   ],
   "source": [
    "# plt.scatter(x=X_train_scaled,y=y_train_scaled)\n",
    "print(X_train_scaled[0])\n",
    "# print(y_train)\n",
    "plt.scatter(y,x)"
   ]
  },
  {
   "cell_type": "code",
   "execution_count": null,
   "metadata": {},
   "outputs": [],
   "source": [
    "# 5 - Analyse de données\n",
    "# 5.1 - Mesure de tendance centrale\n",
    "# Mesure de tendance centrale est le nombre qui caractérise le centre d’une distribution et la position des diverses valeurs de la distribution par rapport à ce centre. \n",
    "# Il s’agit ici de calculer la moyenne, le médiane et le mode d’une distribution. \n",
    "# Vous avez à disposition le fichier nommé tendance_centrale.csv. \n",
    "# Chargez ces données puis en utilisant les outils nécessaires appliquez la mesure de tendance centrale sur ces données."
   ]
  },
  {
   "cell_type": "code",
   "execution_count": 43,
   "metadata": {},
   "outputs": [
    {
     "name": "stdout",
     "output_type": "stream",
     "text": [
      "           Nom  Age  Rating\n",
      "0      ANATOLE   55    4.53\n",
      "1     Vincent    59    3.54\n",
      "2      Brenda    55    3.98\n",
      "3    Philippe    53    5.59\n",
      "4      Michel    30    3.50\n",
      "5     Tillier    59    4.90\n",
      "6   Blanchard    53    3.80\n",
      "7        perez   34    3.78\n",
      "8        théo    40    5.98\n",
      "9     cyprien    30    4.80\n",
      "10   manuella    53    4.30\n",
      "11   LEGGERET    49    3.95\n",
      "12       perez   34    3.78\n",
      "13    sestre     40    5.98\n",
      "14      Fazal    30    4.80\n",
      "15      Donald   53    4.30\n",
      "16     Estelle   49    3.95\n"
     ]
    },
    {
     "data": {
      "text/html": [
       "<div>\n",
       "<style scoped>\n",
       "    .dataframe tbody tr th:only-of-type {\n",
       "        vertical-align: middle;\n",
       "    }\n",
       "\n",
       "    .dataframe tbody tr th {\n",
       "        vertical-align: top;\n",
       "    }\n",
       "\n",
       "    .dataframe thead th {\n",
       "        text-align: right;\n",
       "    }\n",
       "</style>\n",
       "<table border=\"1\" class=\"dataframe\">\n",
       "  <thead>\n",
       "    <tr style=\"text-align: right;\">\n",
       "      <th></th>\n",
       "      <th>Age</th>\n",
       "      <th>Rating</th>\n",
       "    </tr>\n",
       "  </thead>\n",
       "  <tbody>\n",
       "    <tr>\n",
       "      <th>count</th>\n",
       "      <td>17.000000</td>\n",
       "      <td>17.000000</td>\n",
       "    </tr>\n",
       "    <tr>\n",
       "      <th>mean</th>\n",
       "      <td>45.647059</td>\n",
       "      <td>4.438824</td>\n",
       "    </tr>\n",
       "    <tr>\n",
       "      <th>std</th>\n",
       "      <td>10.723462</td>\n",
       "      <td>0.800390</td>\n",
       "    </tr>\n",
       "    <tr>\n",
       "      <th>min</th>\n",
       "      <td>30.000000</td>\n",
       "      <td>3.500000</td>\n",
       "    </tr>\n",
       "    <tr>\n",
       "      <th>25%</th>\n",
       "      <td>34.000000</td>\n",
       "      <td>3.800000</td>\n",
       "    </tr>\n",
       "    <tr>\n",
       "      <th>50%</th>\n",
       "      <td>49.000000</td>\n",
       "      <td>4.300000</td>\n",
       "    </tr>\n",
       "    <tr>\n",
       "      <th>75%</th>\n",
       "      <td>53.000000</td>\n",
       "      <td>4.800000</td>\n",
       "    </tr>\n",
       "    <tr>\n",
       "      <th>max</th>\n",
       "      <td>59.000000</td>\n",
       "      <td>5.980000</td>\n",
       "    </tr>\n",
       "  </tbody>\n",
       "</table>\n",
       "</div>"
      ],
      "text/plain": [
       "             Age     Rating\n",
       "count  17.000000  17.000000\n",
       "mean   45.647059   4.438824\n",
       "std    10.723462   0.800390\n",
       "min    30.000000   3.500000\n",
       "25%    34.000000   3.800000\n",
       "50%    49.000000   4.300000\n",
       "75%    53.000000   4.800000\n",
       "max    59.000000   5.980000"
      ]
     },
     "execution_count": 43,
     "metadata": {},
     "output_type": "execute_result"
    }
   ],
   "source": [
    "data3=pd.read_csv('./Bdd/tendance_centrale.csv',sep=',')\n",
    "print(data3)\n",
    "data3.describe()"
   ]
  },
  {
   "cell_type": "code",
   "execution_count": null,
   "metadata": {},
   "outputs": [],
   "source": [
    "# 5.2 - Analyse de la variance\n",
    "\n",
    "# En statistique, l’analyse de la variance est un modèle statistique utilisé pour comparer les moyennes d’échantillons. \n",
    "# Ce test s’applique lorsque l’on mesure une ou plusieurs variables explicatives catégorielle \n",
    "# (appelées alors facteurs de variabilité, leurs différentes modalités étant parfois appelées « niveaux ») \n",
    "# qui ont de l’influence sur la loi d’une variable continue à expliquer. \n",
    "# Faites une analyse de variance sur le jeu de données issu de tendance_centrale.csv."
   ]
  },
  {
   "cell_type": "code",
   "execution_count": 44,
   "metadata": {},
   "outputs": [
    {
     "name": "stdout",
     "output_type": "stream",
     "text": [
      "249.65148011543107 1.1416831449220863e-16\n"
     ]
    }
   ],
   "source": [
    "import scipy.stats as stats\n",
    "# stats f_oneway functions takes the groups as input and returns ANOVA F and p value\n",
    "fvalue, pvalue = stats.f_oneway(data3['Age'], data3['Rating'])\n",
    "print(fvalue, pvalue)"
   ]
  },
  {
   "cell_type": "code",
   "execution_count": null,
   "metadata": {},
   "outputs": [],
   "source": [
    "# 5.3 - Analyse de corrélations\n",
    "\n",
    "# L’objectif de l’analyse de corrélation est étudier la liaison entre deux variables quantitative. \n",
    "# Soient X et Y deux grandeurs statistiques quantitatives observées. On souhaite :\n",
    "\n",
    "# Déterminer s’il existe une relation entre X et Y .\n",
    "# Caractériser la forme de la liaison(la relation) entre X et Y \n",
    "# (positive ou négative,linéaire ou non linéaire,monotone ou non monotone)\n",
    "# Tester si la liaison est statistiquement significative\n",
    "# Quantifier l’intensité de la liaison\n",
    "\n",
    "# Utlilisez le jeu de données (iris.csv)"
   ]
  },
  {
   "cell_type": "code",
   "execution_count": 45,
   "metadata": {},
   "outputs": [
    {
     "name": "stdout",
     "output_type": "stream",
     "text": [
      "     longueur_sepal  largeur_sepal  longueur_petal  largeur_petal  espece\n",
      "0               5.1            3.5             1.4            0.2       0\n",
      "1               4.9            3.0             1.4            0.2       0\n",
      "2               4.7            3.2             1.3            0.2       0\n",
      "3               4.6            3.1             1.5            0.2       0\n",
      "4               5.0            3.6             1.4            0.2       0\n",
      "..              ...            ...             ...            ...     ...\n",
      "145             6.7            3.0             5.2            2.3       2\n",
      "146             6.3            2.5             5.0            1.9       2\n",
      "147             6.5            3.0             5.2            2.0       2\n",
      "148             6.2            3.4             5.4            2.3       2\n",
      "149             5.9            3.0             5.1            1.8       2\n",
      "\n",
      "[150 rows x 5 columns]\n"
     ]
    }
   ],
   "source": [
    "data_iris=pd.read_csv('./Bdd/iris.csv',sep=',')\n",
    "data_iris_non= data_iris.select_dtypes(include=object).columns\n",
    "for i in data_iris_non :\n",
    "    data_iris[i]= preprocessing.LabelEncoder().fit_transform(data_iris[i])\n",
    "print(data_iris)"
   ]
  },
  {
   "cell_type": "code",
   "execution_count": 46,
   "metadata": {},
   "outputs": [
    {
     "name": "stdout",
     "output_type": "stream",
     "text": [
      "Matrice de covariance :\n",
      "                 longueur_sepal  largeur_sepal  longueur_petal  largeur_petal  \\\n",
      "longueur_sepal        0.685694      -0.042434        1.274315       0.516271   \n",
      "largeur_sepal        -0.042434       0.189979       -0.329656      -0.121639   \n",
      "longueur_petal        1.274315      -0.329656        3.116278       1.295609   \n",
      "largeur_petal         0.516271      -0.121639        1.295609       0.581006   \n",
      "espece                0.530872      -0.152349        1.372483       0.597315   \n",
      "\n",
      "                  espece  \n",
      "longueur_sepal  0.530872  \n",
      "largeur_sepal  -0.152349  \n",
      "longueur_petal  1.372483  \n",
      "largeur_petal   0.597315  \n",
      "espece          0.671141  \n",
      "Matrice de correlation :\n",
      "                 longueur_sepal  largeur_sepal  longueur_petal  largeur_petal  \\\n",
      "longueur_sepal        1.000000      -0.117570        0.871754       0.817941   \n",
      "largeur_sepal        -0.117570       1.000000       -0.428440      -0.366126   \n",
      "longueur_petal        0.871754      -0.428440        1.000000       0.962865   \n",
      "largeur_petal         0.817941      -0.366126        0.962865       1.000000   \n",
      "espece                0.782561      -0.426658        0.949035       0.956547   \n",
      "\n",
      "                  espece  \n",
      "longueur_sepal  0.782561  \n",
      "largeur_sepal  -0.426658  \n",
      "longueur_petal  0.949035  \n",
      "largeur_petal   0.956547  \n",
      "espece          1.000000  \n"
     ]
    }
   ],
   "source": [
    "print ('Matrice de covariance :\\n', data_iris.cov())\n",
    "print ('Matrice de correlation :\\n', data_iris.corr())"
   ]
  },
  {
   "cell_type": "code",
   "execution_count": null,
   "metadata": {},
   "outputs": [],
   "source": [
    "# 5.3.2 - Analyse graphique :\n",
    "\n",
    "# L’analyse graphique est une bonne manière de comprendre les différentes caractéristiques énumérées ci-dessus. \n",
    "# Le graphique \"nuage de points\" est l’outil privilégié. \n",
    "# Nous plaçons en abscisse la variable X, en ordonnée la variable Y, chaque observation est positionnée dans le repère ainsi constitué. \n",
    "# L’intérêt est multiple : nous pouvons situer les proximités entre les individus;\n",
    "\n",
    "# Etudier la forme globale des points, voir notamment s’il existe une forme de liaison ou de régularité;\n",
    "# Détecter visuellement les points qui s’écartent des autres, les observations atypiques;\n",
    "# Vérifier s’il n’y a pas de regroupement suspects, laissant entendre qu’il y a en réalité une troisième variable qui influence le positionnement des individus. . .\n",
    "# A partir de la base de données qui vous est fournie, illustrez quelques types de liaisons qui peuvent exister entre 2 variables.\n",
    "\n",
    "# Utlilisez le jeu de données (iris.csv)\n"
   ]
  },
  {
   "cell_type": "code",
   "execution_count": 47,
   "metadata": {},
   "outputs": [
    {
     "data": {
      "image/png": "[encoded data removed]",
      "text/plain": [
       "<Figure size 432x288 with 4 Axes>"
      ]
     },
     "metadata": {},
     "output_type": "display_data"
    },
    {
     "data": {
      "image/png": "[encoded data removed]",
      "text/plain": [
       "<Figure size 432x288 with 4 Axes>"
      ]
     },
     "metadata": {},
     "output_type": "display_data"
    },
    {
     "data": {
      "image/png": "[encoded data removed]",
      "text/plain": [
       "<Figure size 432x288 with 4 Axes>"
      ]
     },
     "metadata": {},
     "output_type": "display_data"
    },
    {
     "data": {
      "image/png": "[encoded data removed]",
      "text/plain": [
       "<Figure size 432x288 with 4 Axes>"
      ]
     },
     "metadata": {},
     "output_type": "display_data"
    },
    {
     "data": {
      "image/png": "[encoded data removed]",
      "text/plain": [
       "<Figure size 432x288 with 4 Axes>"
      ]
     },
     "metadata": {},
     "output_type": "display_data"
    }
   ],
   "source": [
    "x=data_iris['longueur_petal']\n",
    "y=data_iris['largeur_petal']\n",
    "z=data_iris['longueur_sepal']\n",
    "w=data_iris['largeur_sepal']\n",
    "v=data_iris['espece']\n",
    "fig, axs = plt.subplots(2, 2)\n",
    "fig.suptitle('Espèces')\n",
    "axs[0, 0].scatter(v, x)\n",
    "axs[0, 0].set_title('long_petal')\n",
    "axs[0, 1].scatter(v, y)\n",
    "axs[0, 1].set_title('larg_petal')\n",
    "axs[1, 0].scatter(v, z)\n",
    "axs[1, 0].set_title('long_sepal')\n",
    "axs[1, 1].scatter(v, w)\n",
    "axs[1, 1].set_title('larg_sepal')\n",
    "\n",
    "# for ax in axs.flat:\n",
    "#     ax.set(xlabel='x-label', ylabel='y-label')\n",
    "\n",
    "# Hide x labels and tick labels for top plots and y ticks for right plots.\n",
    "for ax in axs.flat:\n",
    "    ax.label_outer()\n",
    "\n",
    "fig, axs = plt.subplots(2, 2)\n",
    "fig.suptitle('Longueur pétales')\n",
    "axs[0, 0].scatter(x, y)\n",
    "axs[0, 0].set_title('larg_petal')\n",
    "axs[0, 1].scatter(x, z)\n",
    "axs[0, 1].set_title('long_sepal')\n",
    "axs[1, 0].scatter(x, w)\n",
    "axs[1, 0].set_title('larg_sepal')\n",
    "axs[1, 1].scatter(x, v)\n",
    "axs[1, 1].set_title('espèce')\n",
    "\n",
    "for ax in axs.flat:\n",
    "    ax.label_outer()\n",
    "\n",
    "fig, axs = plt.subplots(2, 2)\n",
    "fig.suptitle('Largeur pétales')\n",
    "axs[0, 0].scatter(y, x)\n",
    "axs[0, 0].set_title('long_petal')\n",
    "axs[0, 1].scatter(y, z)\n",
    "axs[0, 1].set_title('long_sepal')\n",
    "axs[1, 0].scatter(y, w)\n",
    "axs[1, 0].set_title('larg_sepal')\n",
    "axs[1, 1].scatter(y, v)\n",
    "axs[1, 1].set_title('espèce')\n",
    "\n",
    "for ax in axs.flat:\n",
    "    ax.label_outer()\n",
    "\n",
    "fig, axs = plt.subplots(2, 2)\n",
    "fig.suptitle('Longueur sépales')\n",
    "axs[0, 0].scatter(z, x)\n",
    "axs[0, 0].set_title('long_petal')\n",
    "axs[0, 1].scatter(z, y)\n",
    "axs[0, 1].set_title('larg_petal')\n",
    "axs[1, 0].scatter(z, w)\n",
    "axs[1, 0].set_title('larg_sepal')\n",
    "axs[1, 1].scatter(z, v)\n",
    "axs[1, 1].set_title('espèce')\n",
    "\n",
    "for ax in axs.flat:\n",
    "    ax.label_outer()\n",
    "\n",
    "fig, axs = plt.subplots(2, 2)\n",
    "fig.suptitle('Largeur sépales')\n",
    "axs[0, 0].scatter(w, x)\n",
    "axs[0, 0].set_title('long_petal')\n",
    "axs[0, 1].scatter(w, y)\n",
    "axs[0, 1].set_title('larg_petal')\n",
    "axs[1, 0].scatter(w, z)\n",
    "axs[1, 0].set_title('long_sepal')\n",
    "axs[1, 1].scatter(x, v)\n",
    "axs[1, 1].set_title('espèce')\n",
    "\n",
    "for ax in axs.flat:\n",
    "    ax.label_outer()"
   ]
  },
  {
   "cell_type": "code",
   "execution_count": null,
   "metadata": {},
   "outputs": [],
   "source": [
    "# De ces graphes, nous pouvons observer différents phénomènes :\n",
    "\n",
    "# La longueur et la largeur des pétales sont fortement corrélées.\n",
    "# Il semble y avoir une faible corrélation entre les longueur et largeurs de sépales.\n",
    "# On observe\n",
    "# Une des espèces présente des pétales de dimensions bien inférieures aux autres espèces."
   ]
  }
 ],
 "metadata": {
  "kernelspec": {
   "display_name": "Python 3",
   "language": "python",
   "name": "python3"
  },
  "language_info": {
   "codemirror_mode": {
    "name": "ipython",
    "version": 3
   },
   "file_extension": ".py",
   "mimetype": "text/x-python",
   "name": "python",
   "nbconvert_exporter": "python",
   "pygments_lexer": "ipython3",
   "version": "3.8.3"
  }
 },
 "nbformat": 4,
 "nbformat_minor": 4
}
